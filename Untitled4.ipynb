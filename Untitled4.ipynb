{
 "cells": [
  {
   "cell_type": "code",
   "execution_count": 9,
   "id": "40c143d3-104f-46bf-bf14-9885f03590ad",
   "metadata": {},
   "outputs": [
    {
     "name": "stdout",
     "output_type": "stream",
     "text": [
      "['False', 'None', 'True', 'and', 'as', 'assert', 'async', 'await', 'break', 'class', 'continue', 'def', 'del', 'elif', 'else', 'except', 'finally', 'for', 'from', 'global', 'if', 'import', 'in', 'is', 'lambda', 'nonlocal', 'not', 'or', 'pass', 'raise', 'return', 'try', 'while', 'with', 'yield']\n"
     ]
    }
   ],
   "source": [
    "#Que (1) - What is Python ,and why it is popular?\n",
    "#Ans (1) - Python is a programming language that's popular because it's easy to learn, versatile,\n",
    "            # ,and can be used for many diffrent application. It is used in web devlopment\n",
    "            # ,data science ,data analytics ,machin learning and many more. \n",
    "\n",
    "#Que (2) - What is an interpreter in python ?\n",
    "#Ans (2) - A Python interpreter is a program that reads and executes Python code.\n",
    "           # It translates the code intomachine-readable bytecode and then executes it line by line.\n",
    "           # This allows programmers to test and run their code immediately. \n",
    "\n",
    "#Que (3) - What are pre-defined keywords in Python ?\n",
    "#Ans (3) - Python Keywords are some predefined and reserved words in Python that have special meanings.\n",
    "           # Keywords are used to define the syntax of the coding. The keyword cannot be used\n",
    "           # as an identifier, function, or variable name. All the keywords in Python are written in\n",
    "           # lowercase except True and False. There are 35 keywords in Python.\n",
    "\n",
    "           # python keywords\n",
    "           # code\n",
    "import keyword\n",
    "print(keyword.kwlist)\n",
    "\n",
    "\n",
    "\n",
    "\n"
   ]
  },
  {
   "cell_type": "code",
   "execution_count": 11,
   "id": "80cf589e-21d3-459c-b574-96c7bdb19304",
   "metadata": {},
   "outputs": [
    {
     "name": "stdout",
     "output_type": "stream",
     "text": [
      "True\n"
     ]
    }
   ],
   "source": [
    "#Que (4) - Can keyword be used as veriable names ?\n",
    "#Ans (4) - No, you cannot use keywords as variable names in Python. Keywords are reserved words \n",
    "           # that have special meanings in the language and are used to define the syntax \n",
    "           # and structure of the Python code.If you try to use a keyword as a variable name,\n",
    "           # you will get a syntax error.\n",
    "\n",
    "#Que (5) - What ia mutability in python ?\n",
    "#Ans (5) - In Python, mutability is the concept that an object's value can be changed after\n",
    "           # it's created. Mutable objects can be modified in terms of their state or contents.\n",
    "\n",
    "#Que (6) - Why are list mutable,but tuple are immutable ?\n",
    "#Ans (6) - A \"list\" is considered mutable, meaning you can change its elements after creating \n",
    "           # it, while a \"tuple\" is immutable, which means you cannot modify its elements once\n",
    "           # it's been created; essentially, lists allow for changes while tuples are fixed data structures. \n",
    "\n",
    "#Que (7) - What is the diffrence between \"==\" and \"is\" operater in python ?\n",
    "#Ans (7) -        \"==\" Operator \n",
    "           # To compare objects based on their values, Python’s equality operators (==) are employed. It calls \n",
    "           # the left object’s __eq__() class method which specifies the criteria for determining equality. \n",
    "           # However, these constraints are typically written so that the equality operator == returns True if \n",
    "           # two objects, have the same value and returns False if both have different value.\n",
    "           # x == y checks if both lists have the same values. Since both lists contain [1, 2, 3], the output will be True.\n",
    "x = [1, 2, 3]\n",
    "y = [1, 2, 3]\n",
    "z = x\n",
    "\n",
    "           #  (==)\n",
    "if x == y:\n",
    "    print(\"True\")\n",
    "else:\n",
    "    print(\"False\")\n",
    "\n",
    "\n",
    "\n"
   ]
  },
  {
   "cell_type": "code",
   "execution_count": 14,
   "id": "634f868d-0411-48e6-aa0e-7fbe00622bc8",
   "metadata": {},
   "outputs": [
    {
     "name": "stdout",
     "output_type": "stream",
     "text": [
      "False\n",
      "True\n"
     ]
    }
   ],
   "source": [
    "#‘is’ Operator\n",
    "           # Python identity operators (is, is not) are used to compare objects based on their identity. \n",
    "           # When the variables on either side of an operator point at the exact same object,\n",
    "           # the “is” operator’s evaluation is true. Otherwise, it would provide us with a false assessment.\n",
    "x = [1, 2, 3]\n",
    "y = [1, 2, 3]\n",
    "z = x\n",
    "\n",
    "\n",
    "        # Case 1: (is)\n",
    "if x is y:\n",
    "    print(\"True\")\n",
    "else:\n",
    "    print(\"False\")\n",
    "\n",
    "        # Case 2: (is)\n",
    "if x is z:\n",
    "    print(\"True\")\n",
    "else:\n",
    "    print(\"False\")\n",
    "\n",
    "\n",
    "\n",
    "\n",
    "    "
   ]
  },
  {
   "cell_type": "code",
   "execution_count": 16,
   "id": "3111e1c1-09c7-45c8-b663-299854d3b376",
   "metadata": {},
   "outputs": [
    {
     "name": "stdout",
     "output_type": "stream",
     "text": [
      "<class 'int'>\n",
      "<class 'float'>\n",
      "10.0\n",
      "<class 'float'>\n",
      "21.0\n",
      "<class 'float'>\n"
     ]
    }
   ],
   "source": [
    "# Explanation:\n",
    "\n",
    "          # Case 1: x is y checks if x and y refer to the same object in memory. Since x and y are two \n",
    "          # separate list objects, the output will be False.\n",
    "       \n",
    "       \n",
    "         # Case 2: x is z checks if x and z refer to the same object. Since z is assigned to x, they are the \n",
    "         # same object, and the output will be True.\n",
    "\n",
    "#Que (8) - What are logic operator in python ?\n",
    "#Ans (8) - Logical operators in Python are used to evaluate conditions and return a boolean value. \n",
    "           # The three main logical operators in Python are and, or, and not. \n",
    "           # \"and\" operator \n",
    "                        # Returns True if both conditions are true.\n",
    "                        # For example, x < 5 and x < 10\n",
    "           # \"or\" operator \n",
    "                        # Returns True if at least one condition is true.\n",
    "                        # For example, x < 5 or x < 4\n",
    "           # \"not\" operator \n",
    "                        # \"Returns\" True if the operand is false, and False if the operand is true.\n",
    "                        # For example, not(x < 5 and x < 10)\n",
    "\n",
    "#Que (9) - What is type casting in python ?\n",
    "#Ans (9) - Type Casting is the method to convert the Python variable datatype into a certain data type \n",
    "           # in order to perform the required operation by users. In this article, we will see the \n",
    "           # various techniques for typecasting. There can be two types of Type Casting in Python:\n",
    "\n",
    "           # Python Implicit Type Conversion.\n",
    "           # Python Explicit Type Conversion \n",
    "\n",
    "#Que (10) What is the diffrence between implict and explicit casting type ?\n",
    "#Ans (10) Difreence between implicit and explcit are explain below .\n",
    "           # Implicit type casting happens automatically when converting data types.\n",
    "           # explicit type casting requires a manual instruction from the programmer \n",
    "           # to convert a value from one type to another\n",
    "        \n",
    "           # Python program to demonstrate \n",
    "           # implicit type Casting \n",
    "\n",
    "           # Python automatically converts \n",
    "           # a to int \n",
    "a = 7\n",
    "print(type(a)) \n",
    "\n",
    "           # Python automatically converts \n",
    "           # b to float \n",
    "b = 3.0\n",
    "print(type(b)) \n",
    "\n",
    "            # Python automatically converts \n",
    "            # c to float as it is a float addition \n",
    "c = a + b \n",
    "print(c) \n",
    "print(type(c))\n",
    "\n",
    "             # Python automatically converts \n",
    "             # d to float as it is a float multiplication\n",
    "d = a * b\n",
    "print(d)\n",
    "print(type(d))"
   ]
  },
  {
   "cell_type": "code",
   "execution_count": 20,
   "id": "560f6caa-4cc4-463e-852f-4d3a3a9d5b6e",
   "metadata": {},
   "outputs": [
    {
     "name": "stdout",
     "output_type": "stream",
     "text": [
      "5.0\n",
      "<class 'float'>\n"
     ]
    }
   ],
   "source": [
    "             # Python program to demonstrate \n",
    "             # type Casting \n",
    "             # int variable\n",
    "a = 5\n",
    "\n",
    "             # typecast to float\n",
    "n = float(a)\n",
    "\n",
    "print(n)\n",
    "print(type(n))\n",
    "\n"
   ]
  },
  {
   "cell_type": "code",
   "execution_count": 24,
   "id": "a909cab8-d3a8-4575-b7e5-e4c7bc74b7c4",
   "metadata": {},
   "outputs": [
    {
     "name": "stdout",
     "output_type": "stream",
     "text": [
      "5\n",
      "<class 'int'>\n"
     ]
    }
   ],
   "source": [
    "              # Python program to demonstrate \n",
    "              # type Casting \n",
    "              # int variable\n",
    "a = 5.9\n",
    "\n",
    "              # typecast to int\n",
    "n = int(a)\n",
    "\n",
    "print(n)\n",
    "print(type(n))"
   ]
  },
  {
   "cell_type": "code",
   "execution_count": 26,
   "id": "66744471-a886-4044-9134-a24b0d59e450",
   "metadata": {},
   "outputs": [
    {
     "name": "stdout",
     "output_type": "stream",
     "text": [
      "You are an adult\n"
     ]
    }
   ],
   "source": [
    "#Que (11) - What is the purpose of conditional statement in python ? \n",
    "#Ans (11) - A conditional statement in Python serves as a decision-making mechanism within your code,\n",
    "           # allowing you to execute specific blocks of code only when certain conditions are met, \n",
    "           # essentially controlling the flow of your program based on whether a condition evaluates \n",
    "           # to true or false; this enables your program to perform different actions depending on the\n",
    "           # input data or situation, making your code more dynamic and adaptable to various scenarios. \n",
    "#Que (12) - How does elif statement work ?\n",
    "#Ans (12) - An \"elif\" statement in programming languages like Python stands for \"else if\" and is used to \n",
    "           # check multiple conditions sequentially; if the first \"if\" condition is false, it moves on \n",
    "           # to the next \"elif\" condition to see if that one is true, allowing you to execute different \n",
    "           # blocks of code based on which condition is met; essentially, it lets you check for alternative \n",
    "           # conditions if the initial \"if\" condition is not satisfied.\n",
    "age = 25\n",
    "\n",
    "\n",
    "\n",
    "if age < 18:\n",
    "\n",
    "    print(\"You are a minor\")\n",
    "\n",
    "elif age >= 18 and age < 65:\n",
    "\n",
    "    print(\"You are an adult\")\n",
    "\n",
    "else:\n",
    "\n",
    "    print(\"You are a senior citizen\") \n",
    "\n",
    "\n"
   ]
  },
  {
   "cell_type": "code",
   "execution_count": null,
   "id": "c8684e0f-457d-4667-bcf4-12c169e93cdc",
   "metadata": {},
   "outputs": [],
   "source": [
    "#Que (13) - What is the diffrenence for and while loop ?\n",
    "#Ans (13) - The main difference between a for loop and a while loop is the number of times the code is repeated. \n",
    "           # A for loop is used when the number of iterations is known, while a while loop is used when the \n",
    "           # number of iterations is unknown.\n",
    "\n",
    "# For loop \n",
    "           # Used to repeat a section of code a known number of times.\n",
    "           # Iterates over a sequence, such as a list, tuple, or string.\n",
    "           # Followed by initialization, expression, and increment statements.\n",
    "           # Provides a concise and easy-to-debug looping structure.\n",
    "# While loop\n",
    "           # Used to repeat a section of code an unknown number of times until a condition is met. \n",
    "           # A type of continuous flow statement. \n",
    "           # Executes the contents of the loop as long as the expression evaluates to true .\n",
    "           # Useful when you don't know how many times the loop will iterate .\n",
    "\n",
    "#Que (14) - Describe a scenario where a while loop is more suitable than a for loop ?\n",
    "#Ans (14) - A while loop is more suitable than a for loop when you don't know in advance how many times the loop \n",
    "           # should run, and instead need to continue looping until a specific condition is met, which might change \n",
    "           # dynamically during the loop's execution; for example, when prompting a user for valid input until they \n",
    "           # provide an acceptable answer, where the number of attempts is unknown beforehand. \n",
    "\n",
    "\n"
   ]
  }
 ],
 "metadata": {
  "kernelspec": {
   "display_name": "Python [conda env:base] *",
   "language": "python",
   "name": "conda-base-py"
  },
  "language_info": {
   "codemirror_mode": {
    "name": "ipython",
    "version": 3
   },
   "file_extension": ".py",
   "mimetype": "text/x-python",
   "name": "python",
   "nbconvert_exporter": "python",
   "pygments_lexer": "ipython3",
   "version": "3.12.7"
  }
 },
 "nbformat": 4,
 "nbformat_minor": 5
}
