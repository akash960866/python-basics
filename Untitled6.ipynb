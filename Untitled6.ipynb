{
 "cells": [
  {
   "cell_type": "code",
   "execution_count": 2,
   "id": "3e105e4e-68ad-4b21-820e-d018b42d4e2a",
   "metadata": {},
   "outputs": [
    {
     "name": "stdout",
     "output_type": "stream",
     "text": [
      "Hello, World!\n"
     ]
    }
   ],
   "source": [
    "############################### Practical Question Assigmment 2025 Data Analytics ###############################\n",
    "\n",
    "#Que(1)- Write a Python program to print \"hellow,world!\"\n",
    "\n",
    "print(\"Hello, World!\")"
   ]
  },
  {
   "cell_type": "code",
   "execution_count": 21,
   "id": "7ddafefe-4497-4ae2-b258-f55990952949",
   "metadata": {},
   "outputs": [
    {
     "name": "stdout",
     "output_type": "stream",
     "text": [
      "My name is, Akash Patel\n",
      "I am 22 years old.\n"
     ]
    }
   ],
   "source": [
    "#Que(2)- write a Python program that displays your name and age\n",
    "\n",
    "name = \"Akash Patel\"  # Replace with your actual name\n",
    "age = 22  # Replace with your actual age\n",
    "\n",
    "print(\"My name is,\",name,)\n",
    "print(\"I am\", age, \"years old.\")"
   ]
  },
  {
   "cell_type": "code",
   "execution_count": 31,
   "id": "42699254-fe37-4a7d-ae9c-ca76d10bb23b",
   "metadata": {},
   "outputs": [
    {
     "name": "stdout",
     "output_type": "stream",
     "text": [
      "The list of keywords is : \n",
      "['False', 'None', 'True', 'and', 'as', 'assert', 'async', 'await', 'break', 'class', 'continue', 'def', 'del', 'elif', 'else', 'except', 'finally', 'for', 'from', 'global', 'if', 'import', 'in', 'is', 'lambda', 'nonlocal', 'not', 'or', 'pass', 'raise', 'return', 'try', 'while', 'with', 'yield']\n"
     ]
    }
   ],
   "source": [
    "#Que(3)- Write code to print all the pre-defined keywords in python using the keyword library.\n",
    "\n",
    "import keyword\n",
    "\n",
    "# printing all keywords at once using \"kwlist()\"\n",
    "print(\"The list of keywords is : \")\n",
    "print(keyword.kwlist)"
   ]
  },
  {
   "cell_type": "code",
   "execution_count": 70,
   "id": "b5e00b42-8a00-4e63-b2c0-f07f9a6f7b07",
   "metadata": {},
   "outputs": [
    {
     "name": "stdout",
     "output_type": "stream",
     "text": [
      "'for' is a Python keyword.\n"
     ]
    }
   ],
   "source": [
    "#Que(4)- Write a program that check if a given word  Python keyword.\n",
    "\n",
    "import keyword\n",
    "\n",
    "s = 'for'\n",
    "\n",
    "# Check if it's a Python keyword\n",
    "if keyword.iskeyword(s):\n",
    "    print(f\"'{s}' is a Python keyword.\")\n",
    "else:\n",
    "    print(f\"'{s}' is not a Python keyword.\")"
   ]
  },
  {
   "cell_type": "code",
   "execution_count": 72,
   "id": "baec6a0a-1b3f-4632-b6e2-1637da93d109",
   "metadata": {},
   "outputs": [
    {
     "name": "stdout",
     "output_type": "stream",
     "text": [
      "[1, 20, 3, 4, 5, 6, 7, 8, 9, 10]\n",
      "Tuples cannot be modified\n"
     ]
    }
   ],
   "source": [
    "#Que(5)- Create a list and tuple in python,and demonstrate how attempting to change an element work differently for each.\n",
    "\n",
    "# Creating a list and a tuple\n",
    "my_list = [1, 2, 3,4,5,6,7,8,9,10]\n",
    "my_tuple = (1, 2, 3,4,5,6,7,8,9,10)\n",
    "\n",
    "# Modifying the list (allowed)\n",
    "my_list[1] = 20\n",
    "print(my_list)  \n",
    "\n",
    "# Attempting to modify the tuple (raises an error)\n",
    "try:\n",
    "    my_tuple[1] = 4\n",
    "except TypeError:\n",
    "    print(\"Tuples cannot be modified\") "
   ]
  },
  {
   "cell_type": "code",
   "execution_count": 76,
   "id": "6df93275-997e-48e9-a512-fa89716b82a5",
   "metadata": {},
   "outputs": [
    {
     "name": "stdout",
     "output_type": "stream",
     "text": [
      "Before function call:\n",
      "x: 5\n",
      "y: [1, 2, 3]\n",
      "Inside function:\n",
      "immutable_arg: 6\n",
      "mutable_arg: [1, 2, 3, 4]\n",
      "After function call:\n",
      "x: 5\n",
      "y: [1, 2, 3, 4]\n"
     ]
    }
   ],
   "source": [
    "#Que(6)- Write a function to demonstrate the behaviour of mutable and immutable arguments.\n",
    "\n",
    "def modify_arguments(immutable_arg, mutable_arg):\n",
    "    \"\"\"Demonstrates the behavior of mutable and immutable arguments.\"\"\"\n",
    "\n",
    "    immutable_arg += 1  # This creates a new integer object\n",
    "    mutable_arg.append(4)  # This modifies the original list\n",
    "\n",
    "    print(\"Inside function:\")\n",
    "    print(\"immutable_arg:\", immutable_arg)\n",
    "    print(\"mutable_arg:\", mutable_arg)\n",
    "\n",
    "\n",
    "x = 5\n",
    "y = [1, 2, 3]\n",
    "\n",
    "print(\"Before function call:\")\n",
    "print(\"x:\", x)\n",
    "print(\"y:\", y)\n",
    "\n",
    "modify_arguments(x, y)\n",
    "\n",
    "print(\"After function call:\")\n",
    "print(\"x:\", x)\n",
    "print(\"y:\", y)"
   ]
  },
  {
   "cell_type": "code",
   "execution_count": 78,
   "id": "c75fcecf-50a4-4241-8760-1c65470e1db2",
   "metadata": {},
   "outputs": [
    {
     "name": "stdout",
     "output_type": "stream",
     "text": [
      "Before function call:\n",
      "x: 5\n",
      "y: [1, 2, 3]\n",
      "Inside function:\n",
      "immutable_arg: 6\n",
      "mutable_arg: [1, 2, 3, 4]\n",
      "After function call:\n",
      "x: 5\n",
      "y: [1, 2, 3, 4]\n"
     ]
    }
   ],
   "source": [
    "#Que(7)- Write a function to demonstrate the behaviour of mutable and immutable arguments.\n",
    "\n",
    "def modify_arguments(immutable_arg, mutable_arg):\n",
    "    \"\"\"Demonstrates the behavior of mutable and immutable arguments.\"\"\"\n",
    "\n",
    "    immutable_arg += 1  # This creates a new integer object\n",
    "    mutable_arg.append(4)  # This modifies the original list\n",
    "\n",
    "    print(\"Inside function:\")\n",
    "    print(\"immutable_arg:\", immutable_arg)\n",
    "    print(\"mutable_arg:\", mutable_arg)\n",
    "\n",
    "\n",
    "x = 5\n",
    "y = [1, 2, 3]\n",
    "\n",
    "print(\"Before function call:\")\n",
    "print(\"x:\", x)\n",
    "print(\"y:\", y)\n",
    "\n",
    "modify_arguments(x, y)\n",
    "\n",
    "print(\"After function call:\")\n",
    "print(\"x:\", x)\n",
    "print(\"y:\", y)\n"
   ]
  },
  {
   "cell_type": "code",
   "execution_count": 80,
   "id": "b2ae48df-57ae-40b3-9489-0a5d2de52d06",
   "metadata": {},
   "outputs": [
    {
     "name": "stdout",
     "output_type": "stream",
     "text": [
      "Both a and c are True (AND condition).\n",
      "Either b or c is True (OR condition).\n",
      "b is False (NOT condition).\n"
     ]
    }
   ],
   "source": [
    "#Que(8)- Write a program to demonstrate the use of logical operators.\n",
    "\n",
    "# Example: Logical Operators (AND, OR, NOT) \n",
    "a, b, c = True, False, True\n",
    "\n",
    "# AND: Both conditions must be True\n",
    "if a and c:\n",
    "    print(\"Both a and c are True (AND condition).\")\n",
    "\n",
    "# OR: At least one condition must be True\n",
    "if b or c:\n",
    "    print(\"Either b or c is True (OR condition).\")\n",
    "\n",
    "# NOT: Reverses the condition\n",
    "if not b:\n",
    "    print(\"b is False (NOT condition).\")"
   ]
  },
  {
   "cell_type": "code",
   "execution_count": 125,
   "id": "c49a85a2-1a7a-4515-9ed3-7808db94572d",
   "metadata": {},
   "outputs": [
    {
     "name": "stdin",
     "output_type": "stream",
     "text": [
      "Enter a value:  345\n"
     ]
    },
    {
     "name": "stdout",
     "output_type": "stream",
     "text": [
      "Original Input: 345\n",
      "Integer: 345\n",
      "Float: 345.0\n",
      "Boolean: False\n"
     ]
    }
   ],
   "source": [
    "#Que(9)- write a python program to convert user input from string to integer float and boolean types.\n",
    "\n",
    "def convert_input(value):\n",
    "    try:\n",
    "        int_value = int(value)\n",
    "    except ValueError:\n",
    "        int_value = None\n",
    "    \n",
    "    try:\n",
    "        float_value = float(value)\n",
    "    except ValueError:\n",
    "        float_value = None\n",
    "    \n",
    "    bool_value = value.strip().lower() in ('true', '1', 'yes', 'y')\n",
    "    \n",
    "    print(f\"Original Input: {value}\")\n",
    "    print(f\"Integer: {int_value}\")\n",
    "    print(f\"Float: {float_value}\")\n",
    "    print(f\"Boolean: {bool_value}\")\n",
    "    \n",
    "if __name__ == \"__main__\":\n",
    "    user_input = input(\"Enter a value: \")\n",
    "    convert_input(user_input)\n"
   ]
  },
  {
   "cell_type": "code",
   "execution_count": 127,
   "id": "30dd33fd-9580-4b18-8406-644474090565",
   "metadata": {},
   "outputs": [
    {
     "name": "stdout",
     "output_type": "stream",
     "text": [
      "<class 'int'>\n",
      "<class 'float'>\n",
      "10.0\n",
      "<class 'float'>\n",
      "21.0\n",
      "<class 'float'>\n"
     ]
    }
   ],
   "source": [
    "#Que(10)- write code to demonstrate type casting with list element.\n",
    "\n",
    "# Python program to demonstrate \n",
    "# implicit type Casting \n",
    "\n",
    "# Python automatically converts \n",
    "# a to int \n",
    "a = 7\n",
    "print(type(a)) \n",
    "\n",
    "# Python automatically converts \n",
    "# b to float \n",
    "b = 3.0\n",
    "print(type(b)) \n",
    "\n",
    "# Python automatically converts \n",
    "# c to float as it is a float addition \n",
    "c = a + b \n",
    "print(c) \n",
    "print(type(c))\n",
    "\n",
    "# Python automatically converts \n",
    "# d to float as it is a float multiplication\n",
    "d = a * b\n",
    "print(d)\n",
    "print(type(d))\n"
   ]
  },
  {
   "cell_type": "code",
   "execution_count": 129,
   "id": "d3fa1dff-b709-45fc-b2ec-c609f1d868fa",
   "metadata": {},
   "outputs": [
    {
     "name": "stdin",
     "output_type": "stream",
     "text": [
      "Enter a number:  33\n"
     ]
    },
    {
     "name": "stdout",
     "output_type": "stream",
     "text": [
      "The number is positive.\n"
     ]
    }
   ],
   "source": [
    "#Que(11)- write a program to check if a number is positive negative or zero in python.\n",
    "\n",
    "def check_number(value):\n",
    "    try:\n",
    "        number = float(value)\n",
    "        if number > 0:\n",
    "            print(\"The number is positive.\")\n",
    "        elif number < 0:\n",
    "            print(\"The number is negative.\")\n",
    "        else:\n",
    "            print(\"The number is zero.\")\n",
    "    except ValueError:\n",
    "        print(\"Invalid input. Please enter a numeric value.\")\n",
    "    \n",
    "if __name__ == \"__main__\":\n",
    "    user_input = input(\"Enter a number: \")\n",
    "    check_number(user_input)\n"
   ]
  },
  {
   "cell_type": "code",
   "execution_count": 135,
   "id": "841c2224-d668-421a-8bb3-f7bc4090f1df",
   "metadata": {},
   "outputs": [
    {
     "name": "stdout",
     "output_type": "stream",
     "text": [
      "1\n",
      "2\n",
      "3\n",
      "4\n",
      "5\n",
      "6\n",
      "7\n",
      "8\n",
      "9\n",
      "10\n"
     ]
    }
   ],
   "source": [
    "#Que(12)- write a for loop to print numbers from 1 to 10.\n",
    "\n",
    "for i in range(1, 11):\n",
    "    print(i)\n"
   ]
  },
  {
   "cell_type": "code",
   "execution_count": 137,
   "id": "054a5ffe-9acc-42bb-8919-bd4ac8ddae09",
   "metadata": {},
   "outputs": [
    {
     "name": "stdout",
     "output_type": "stream",
     "text": [
      "Sum of even numbers from 1 to 50: 650\n"
     ]
    }
   ],
   "source": [
    "#Que(13)- write a python program to find the  sum of all even numbers from 1 to 50.\n",
    "\n",
    "# Initialize a variable to store the sum\n",
    "sum_even = 0\n",
    "\n",
    "# Iterate over the range from 1 to 50\n",
    "for num in range(1, 51):\n",
    "    # Check if the number is even\n",
    "    if num % 2 == 0:\n",
    "        # Add the even number to the sum\n",
    "        sum_even += num\n",
    "\n",
    "# Print the sum of even numbers\n",
    "print(\"Sum of even numbers from 1 to 50:\", sum_even)"
   ]
  },
  {
   "cell_type": "code",
   "execution_count": 141,
   "id": "54fed057-ee85-4b61-bc6e-c44dac56a1e4",
   "metadata": {},
   "outputs": [
    {
     "name": "stdin",
     "output_type": "stream",
     "text": [
      "Enter a string:  45\n"
     ]
    },
    {
     "name": "stdout",
     "output_type": "stream",
     "text": [
      "Reversed string: 54\n"
     ]
    }
   ],
   "source": [
    "#Que(14)- write a program to reverse a string using a while loop.\n",
    "\n",
    "def reverse_string(input_string):\n",
    "    reversed_string = ''\n",
    "    index = len(input_string) - 1\n",
    "\n",
    "    while index >= 0:\n",
    "        reversed_string += input_string[index]\n",
    "        index -= 1\n",
    "\n",
    "    return reversed_string\n",
    "\n",
    "# Example usage:\n",
    "user_input = input(\"Enter a string: \")\n",
    "print(\"Reversed string:\", reverse_string(user_input))\n"
   ]
  },
  {
   "cell_type": "code",
   "execution_count": 143,
   "id": "1bc625fd-ada8-4a11-b673-a674606ac939",
   "metadata": {},
   "outputs": [
    {
     "name": "stdin",
     "output_type": "stream",
     "text": [
      "Enter a non-negative integer:  68\n"
     ]
    },
    {
     "name": "stdout",
     "output_type": "stream",
     "text": [
      "The factorial of 68 is 2480035542436830599600990418569171581047399201355367672371710738018221445712183296000000000000000.\n"
     ]
    }
   ],
   "source": [
    "#Que(15)- write a python program to calculate the factorial  of a number provided by the user using while loop.\n",
    "\n",
    "def factorial(n):\n",
    "    if n < 0:\n",
    "        return \"Factorial does not exist for negative numbers.\"\n",
    "    result = 1\n",
    "    while n > 0:\n",
    "        result *= n\n",
    "        n -= 1\n",
    "    return result\n",
    "\n",
    "# Example usage:\n",
    "try:\n",
    "    user_input = int(input(\"Enter a non-negative integer: \"))\n",
    "    print(f\"The factorial of {user_input} is {factorial(user_input)}.\")\n",
    "except ValueError:\n",
    "    print(\"Invalid input. Please enter a non-negative integer.\")\n"
   ]
  },
  {
   "cell_type": "code",
   "execution_count": null,
   "id": "cd0323ae-a7ed-4363-beec-05727f5d29a5",
   "metadata": {},
   "outputs": [],
   "source": []
  }
 ],
 "metadata": {
  "kernelspec": {
   "display_name": "Python [conda env:base] *",
   "language": "python",
   "name": "conda-base-py"
  },
  "language_info": {
   "codemirror_mode": {
    "name": "ipython",
    "version": 3
   },
   "file_extension": ".py",
   "mimetype": "text/x-python",
   "name": "python",
   "nbconvert_exporter": "python",
   "pygments_lexer": "ipython3",
   "version": "3.12.7"
  }
 },
 "nbformat": 4,
 "nbformat_minor": 5
}
